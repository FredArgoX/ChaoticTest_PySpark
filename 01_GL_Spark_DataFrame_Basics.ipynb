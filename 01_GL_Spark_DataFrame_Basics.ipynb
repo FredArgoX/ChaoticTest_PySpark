{
  "nbformat": 4,
  "nbformat_minor": 0,
  "metadata": {
    "colab": {
      "provenance": [],
      "authorship_tag": "ABX9TyPoxaebPBo2oBiaGTzt5gSW",
      "include_colab_link": true
    },
    "kernelspec": {
      "name": "python3",
      "display_name": "Python 3"
    },
    "language_info": {
      "name": "python"
    }
  },
  "cells": [
    {
      "cell_type": "markdown",
      "metadata": {
        "id": "view-in-github",
        "colab_type": "text"
      },
      "source": [
        "<a href=\"https://colab.research.google.com/github/FredArgoX/ChaoticTest_PySpark/blob/main/01_GL_Spark_DataFrame_Basics.ipynb\" target=\"_parent\"><img src=\"https://colab.research.google.com/assets/colab-badge.svg\" alt=\"Open In Colab\"/></a>"
      ]
    },
    {
      "cell_type": "markdown",
      "source": [
        "Spark DataFrames are the workhouse and main way of working with Spark and Python post Spark 2.0. DataFrames act as powerful versions of tables, with rows and columns, easily handling large datasets. The shift to DataFrames provides many advantages:\n",
        "\n",
        "- A much simpler syntax\n",
        "- Ability to use SQL directly in the dataframe\n",
        "- Operations are automatically distributed across RDDs\n",
        "\n",
        "If you've used R or even the pandas library with Python you are probably already familiar with the concept of DataFrames. Spark DataFrame expand on a lot of these concepts, allowing you to transfer that knowlwdge easily by understanding the simple syntax of Spark DataFrames. Remember that the main advantage to using Spark DataFrames vs those of other programs is that Spark cand handle data across many RDDs, huge data sets that would never fit on a single computer."
      ],
      "metadata": {
        "id": "sdvVPzPtkVUg"
      }
    },
    {
      "cell_type": "markdown",
      "source": [
        "# Creating a DataFrame"
      ],
      "metadata": {
        "id": "27Bn_GGGlpE6"
      }
    },
    {
      "cell_type": "markdown",
      "source": [
        "First we need to start a SparkSession:"
      ],
      "metadata": {
        "id": "qlh1W8DHlv2v"
      }
    },
    {
      "cell_type": "code",
      "execution_count": 1,
      "metadata": {
        "id": "xkmyWYKtjhnB"
      },
      "outputs": [],
      "source": [
        "from pyspark.sql import SparkSession"
      ]
    },
    {
      "cell_type": "markdown",
      "source": [
        "Then start the SparkSession"
      ],
      "metadata": {
        "id": "XQgcvOn7l7no"
      }
    },
    {
      "cell_type": "code",
      "source": [
        "# May take a little while on a local computer\n",
        "spark = SparkSession.builder.appName(\"Basics\").getOrCreate()"
      ],
      "metadata": {
        "id": "Y-ghLs_Cl4AJ"
      },
      "execution_count": 2,
      "outputs": []
    },
    {
      "cell_type": "code",
      "source": [
        "spark"
      ],
      "metadata": {
        "colab": {
          "base_uri": "https://localhost:8080/",
          "height": 219
        },
        "id": "1CKrTbrGmLgF",
        "outputId": "11b330a8-7c56-46c5-c459-550105ce529f"
      },
      "execution_count": 3,
      "outputs": [
        {
          "output_type": "execute_result",
          "data": {
            "text/plain": [
              "<pyspark.sql.session.SparkSession at 0x7db675a1fc90>"
            ],
            "text/html": [
              "\n",
              "            <div>\n",
              "                <p><b>SparkSession - in-memory</b></p>\n",
              "                \n",
              "        <div>\n",
              "            <p><b>SparkContext</b></p>\n",
              "\n",
              "            <p><a href=\"http://1fbde26f49fc:4040\">Spark UI</a></p>\n",
              "\n",
              "            <dl>\n",
              "              <dt>Version</dt>\n",
              "                <dd><code>v3.5.1</code></dd>\n",
              "              <dt>Master</dt>\n",
              "                <dd><code>local[*]</code></dd>\n",
              "              <dt>AppName</dt>\n",
              "                <dd><code>Basics</code></dd>\n",
              "            </dl>\n",
              "        </div>\n",
              "        \n",
              "            </div>\n",
              "        "
            ]
          },
          "metadata": {},
          "execution_count": 3
        }
      ]
    },
    {
      "cell_type": "markdown",
      "source": [
        "You will first need to get the data from a file (or connect to a large distributed file like HDFS)"
      ],
      "metadata": {
        "id": "WXpr-TZzmhzU"
      }
    },
    {
      "cell_type": "code",
      "source": [
        "# This dataset is from Spark's examples"
      ],
      "metadata": {
        "id": "pRER84IXmrtp"
      },
      "execution_count": null,
      "outputs": []
    }
  ]
}